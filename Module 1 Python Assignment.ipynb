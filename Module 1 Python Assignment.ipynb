{
 "cells": [
  {
   "cell_type": "markdown",
   "metadata": {},
   "source": [
    "# MSDS 430 Module 1 Python Assignment"
   ]
  },
  {
   "cell_type": "markdown",
   "metadata": {},
   "source": [
    "#### In this assignment you will complete the following exercises and submit your notebook (ipynb file) to Canvas. Your file should include all output, i.e. run each cell and save your file before submitting.  In this course we will use only python 3.0+"
   ]
  },
  {
   "cell_type": "markdown",
   "metadata": {},
   "source": [
    "Anything that starts with a 'hash' symbol is considered to be comments and will not be executed. Run the code in the cell below. The first three lines are defining three variables. The first one is a string and the next two are numbers (one an integer one a floating point numeral). Python defined variables are global and hence can be recalled later on in any other cell."
   ]
  },
  {
   "cell_type": "code",
   "execution_count": 12,
   "metadata": {},
   "outputs": [],
   "source": [
    "#TODO: Run this cell to get started with this assignment.\n",
    "\n",
    "f = 'first' # this is a string, assigned to f\n",
    "x1 = 5      # this is an integer numeric value, assigned to x1\n",
    "x2 = 4.3    # this is a numeric value, assigned x2\n",
    "x3 = True   # this is a boolean value, assigned to x3\n",
    "x4=0        # this is a zero value and not a null value, assigned to x4\n",
    "x5=None     # this is a Null in python and has nothing defined in the named place of x5.\n",
    "\n",
    "# All the above defined variables may be used later on in the Jupyter notebook.\n",
    "# If you want to check the data type of these you can use type(variable) after running this cell.\n"
   ]
  },
  {
   "cell_type": "markdown",
   "metadata": {},
   "source": [
    "Problem 1 (1 pt.): Run the following cell and explain why it does not work. You can use the code cell provided or convert it to a markdown cell to type your response."
   ]
  },
  {
   "cell_type": "code",
   "execution_count": 13,
   "metadata": {},
   "outputs": [
    {
     "name": "stdout",
     "output_type": "stream",
     "text": [
      "This is my first Python print execution.\n"
     ]
    }
   ],
   "source": [
    "print('This is my first Python print execution.')"
   ]
  },
  {
   "cell_type": "code",
   "execution_count": 14,
   "metadata": {},
   "outputs": [],
   "source": [
    "#It does not run because the print function does not have parenthesis around it. "
   ]
  },
  {
   "cell_type": "code",
   "execution_count": 15,
   "metadata": {},
   "outputs": [],
   "source": [
    "#TODO: Fix the print statement and rerun."
   ]
  },
  {
   "cell_type": "markdown",
   "metadata": {},
   "source": [
    "In this next problem, we see `.format` included in the print statement, which is a print object. Objects are methods applicable to a parent function, which we'll learn more about later in the course. For now you can find more details about powerful print options at: https://realpython.com/python-f-strings/. Note that you are using the variables f, x1, x2 defined(executed) from the above cell."
   ]
  },
  {
   "cell_type": "markdown",
   "metadata": {},
   "source": [
    "Problem 2 (1 pt.): Execute the print command below as is, and explain what `{}` has achieved in the output."
   ]
  },
  {
   "cell_type": "code",
   "execution_count": 16,
   "metadata": {},
   "outputs": [
    {
     "name": "stdout",
     "output_type": "stream",
     "text": [
      "This is my first! print execution using format value stored in a variable, and it is None!\n"
     ]
    }
   ],
   "source": [
    "print(\"This is my {}! print execution using format value stored in a variable, and it is {}!\".format(f,x5))\n",
    "\n",
    "# Feel free to see what happens when x2 is replaced by say, x5."
   ]
  },
  {
   "cell_type": "code",
   "execution_count": 17,
   "metadata": {},
   "outputs": [],
   "source": [
    "#The \"{}\" acts a as a placeholder and we can access it with the format fuction by using variables predefined. "
   ]
  },
  {
   "cell_type": "markdown",
   "metadata": {},
   "source": [
    "Problem 3 (1 pts.): What is the keyboard command to insert a cell below and move to that cell? What is the keyboard command for executing the cell? Note that all keyboard commands are decipherable by clicking on the keyboard icon below 'help'."
   ]
  },
  {
   "cell_type": "code",
   "execution_count": 18,
   "metadata": {},
   "outputs": [],
   "source": [
    "#Have to press \"Esc\" to enter command mode and then press B for entering a cell below. "
   ]
  },
  {
   "cell_type": "markdown",
   "metadata": {},
   "source": [
    "Problem 4 (1 pts.): List the top five keyboard commands you think will be useful to speed up your notebook execution."
   ]
  },
  {
   "cell_type": "code",
   "execution_count": 19,
   "metadata": {},
   "outputs": [],
   "source": [
    "# Esc: Entering command mode\n",
    "# B: entering a cell below\n",
    "# Shift + Enter : run cell and select next\n",
    "# M: Change cell to markdown\n",
    "# Alt - Enter: Run cell and insert below"
   ]
  },
  {
   "cell_type": "markdown",
   "metadata": {},
   "source": [
    "Problem 5 (1 pts.): Explain how will you get help on any Python command from within a Jupyter notebook? "
   ]
  },
  {
   "cell_type": "code",
   "execution_count": 21,
   "metadata": {},
   "outputs": [],
   "source": [
    "#I can use the \"?\" on any function"
   ]
  },
  {
   "cell_type": "markdown",
   "metadata": {},
   "source": [
    "Problem 6 (1 pts.): What are the top 5 magic commands that you feel will be useful to interact with your operating system or Python execution? For a large list of these, visit: http://damontallen.github.io/IPython-quick-ref-sheets/svg/Magic_only.svg"
   ]
  },
  {
   "cell_type": "code",
   "execution_count": 23,
   "metadata": {},
   "outputs": [],
   "source": [
    "#%autosave, %debug, %cd, %env, #timeit, $autocall"
   ]
  },
  {
   "cell_type": "markdown",
   "metadata": {},
   "source": [
    "There are several ways to insert a screenshot in a Jupyter notebook, some use a markdown cell and others use a code cell. Here's a short video explaining some of these methods: https://www.youtube.com/watch?v=xlD8FIM5biA"
   ]
  },
  {
   "cell_type": "markdown",
   "metadata": {},
   "source": [
    "Problem 7 (1 pts.): From the command prompt on your computer (also called the terminal on a Mac), find the product of any two numbers. Take a screenshot and insert the image below."
   ]
  },
  {
   "cell_type": "markdown",
   "metadata": {},
   "source": [
    "![Multiplication_Screenshot](img/Screenshot_multiplication.png)"
   ]
  },
  {
   "cell_type": "markdown",
   "metadata": {},
   "source": [
    "Problem 8 (1 pts.): Insert a markdown cell below and explain how to get help using \"tab\"."
   ]
  },
  {
   "cell_type": "markdown",
   "metadata": {},
   "source": [
    "Set a fuction and insert a dot in front of it and press tab. This helps with Autocompletion of the function. You can also type the first couple letters of a function or command, Press <TAB> and a box pops out with the available functions/command that have the first few letters previously typed.  "
   ]
  },
  {
   "cell_type": "markdown",
   "metadata": {},
   "source": [
    "Problem 9 (1 pts.): Open Anaconda Navigator on your computer and take a screenshot. Insert your screenshot in the cell below."
   ]
  },
  {
   "cell_type": "markdown",
   "metadata": {},
   "source": [
    "![Anaconda](img/Anaconda.png)"
   ]
  },
  {
   "cell_type": "markdown",
   "metadata": {},
   "source": [
    "Problem 10 (1 pts.): From Anaconda, open Spyder. In the iPython console (lower right), find the sum of any two numbers and take a screenshot. Insert your screenshot in the cell below."
   ]
  },
  {
   "cell_type": "markdown",
   "metadata": {},
   "source": [
    "![Spyder](img/Spyder.png)"
   ]
  }
 ],
 "metadata": {
  "kernelspec": {
   "display_name": "Python 3",
   "language": "python",
   "name": "python3"
  },
  "language_info": {
   "codemirror_mode": {
    "name": "ipython",
    "version": 3
   },
   "file_extension": ".py",
   "mimetype": "text/x-python",
   "name": "python",
   "nbconvert_exporter": "python",
   "pygments_lexer": "ipython3",
   "version": "3.7.3"
  }
 },
 "nbformat": 4,
 "nbformat_minor": 2
}
