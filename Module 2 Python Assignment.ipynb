{
 "cells": [
  {
   "cell_type": "markdown",
   "metadata": {},
   "source": [
    "# MSDS 430 Module 2 Python Assignment"
   ]
  },
  {
   "cell_type": "markdown",
   "metadata": {},
   "source": [
    "#### In this assignment you will complete the following exercises and submit your notebook (ipynb file) to Canvas. Your file should include all output, i.e. run each cell and save your file before submitting."
   ]
  },
  {
   "cell_type": "markdown",
   "metadata": {},
   "source": [
    "<font color=green> This week we are starting to learn how to write short programs in Python beyond \"Hello World!\" We're learning about different data types such as integers, floats, strings, and Boolean types. Each of these data types serves different purposes. In this assignment, we start working with these data types and get our feet wet with conditional statements. Conditionals are quite useful in programming and we will work with them from here on out. We will get some good practice with conditional statements in this assignment.  </font>"
   ]
  },
  {
   "cell_type": "markdown",
   "metadata": {},
   "source": [
    "Problem 1 (2 pts.): Convert the sum of 6.5 and 1.3 to both an integer and a string."
   ]
  },
  {
   "cell_type": "code",
   "execution_count": 7,
   "metadata": {},
   "outputs": [
    {
     "name": "stdout",
     "output_type": "stream",
     "text": [
      "<class 'int'>\n",
      "<class 'str'>\n"
     ]
    }
   ],
   "source": [
    "print(type(int(6.5+1.3)))\n",
    "      \n",
    "print(type(str(6.5+1.3)))"
   ]
  },
  {
   "cell_type": "markdown",
   "metadata": {},
   "source": [
    "Problem 2 (2 pts.): Use **all five** mathematical operators (`+` `-` `*` `/` `**`) in a **single expression** to produce the number 3."
   ]
  },
  {
   "cell_type": "code",
   "execution_count": 8,
   "metadata": {},
   "outputs": [
    {
     "data": {
      "text/plain": [
       "3.0"
      ]
     },
     "execution_count": 8,
     "metadata": {},
     "output_type": "execute_result"
    }
   ],
   "source": [
    "((1+2)-(2))*(15)/(5)**1"
   ]
  },
  {
   "cell_type": "markdown",
   "metadata": {},
   "source": [
    "Problem 3 (4 pts.): Write a program that asks a user for two numbers, then prints two sentences displaying the sum and product of those numbers,respectively. More specifically, the program should display the prompt `Enter a number: ` and then wait for the user's input. After the user enters his/her input followed by pressing the `enter` key, the program prompts the user to enter the second number in a similar fashion. <br>  <br>Here's a sample of what this should look like to the user:\n",
    "\n",
    "`Enter any number: `5<br>\n",
    "`Enter a second number: `123 <br> \n",
    "`The sum of 5 and 123 is 128.`<br>\n",
    "`The product of 5 and 123 is 615.`"
   ]
  },
  {
   "cell_type": "code",
   "execution_count": 9,
   "metadata": {},
   "outputs": [
    {
     "name": "stdout",
     "output_type": "stream",
     "text": [
      "Enter any number: 10\n",
      "Enter a second number: 34\n",
      "The sum of 10 and 34 is 44.\n",
      "The product of 10 and 34 is 340.\n"
     ]
    }
   ],
   "source": [
    "x = int(input(\"Enter any number: \"))\n",
    "y = int(input(\"Enter a second number: \"))\n",
    "a = x + y\n",
    "b = x * y\n",
    "print(\"The sum of {} and {} is {}.\".format(x,y,a))\n",
    "print(\"The product of {} and {} is {}.\".format(x,y,b))"
   ]
  },
  {
   "cell_type": "markdown",
   "metadata": {},
   "source": [
    "Problem 4 (2 pts.): Write a program that asks a user to enter any number then returns whether the number is a multiple of 5 or not. Here's a sample of what this should look like to the user:\n",
    "\n",
    "`Enter any number: `319<br>\n",
    "`319 is not a multiple of 5.`"
   ]
  },
  {
   "cell_type": "code",
   "execution_count": 10,
   "metadata": {},
   "outputs": [
    {
     "name": "stdout",
     "output_type": "stream",
     "text": [
      "Enter any number: 5860\n",
      "5860 is a multiple of 5.\n"
     ]
    }
   ],
   "source": [
    "x = int(input(\"Enter any number: \"))\n",
    "if x%5==0:\n",
    "    print(\"{} is a multiple of 5.\".format(x))\n",
    "else:\n",
    "    print(\"{} is not a multiple of 5.\".format(x))"
   ]
  },
  {
   "cell_type": "markdown",
   "metadata": {},
   "source": [
    "Problem 5 (2 pts.): Write a program to assign Boolean values to variables `P` and `Q` and evaluate `not P or Q`. Choose the appropriate truth values for `P` and `Q` so that the expression evaluates to `True`."
   ]
  },
  {
   "cell_type": "code",
   "execution_count": 13,
   "metadata": {},
   "outputs": [
    {
     "name": "stdout",
     "output_type": "stream",
     "text": [
      "True\n"
     ]
    }
   ],
   "source": [
    "P = 5\n",
    "Q = 5\n",
    "\n",
    "print(not (P or Q) == 3)"
   ]
  },
  {
   "cell_type": "markdown",
   "metadata": {},
   "source": [
    "Problem 6 (6 pts.): Jake is looking for a job but has some conditions. He would love a job in Hawaii and would accept it if it pays more than 40,000 per year. He does not like New York but would take a job if it pays more than 100,000 per year. He would work anywhere else if it pays more than 60,000. Write a program that prompts the user to enter two input values, `location` and `pay`, and returns \n",
    "\n",
    "(1) \"I'll take it!\" if the user entered Hawaii and more than 40000, New York and more than 100000, or anywhere else with pay more than 60000, for the `location` and `pay`, respectively, or  <br> \n",
    "(2) \"No way.\" if the user enters Hawaii and less than 40000 or New York and less than 100000, for the `location` and `pay`, respectively, or <br> \n",
    "(3) \"No thanks, I can find something better.\" if the `location` is anywhere else and the `pay` is less than 60000."
   ]
  },
  {
   "cell_type": "code",
   "execution_count": null,
   "metadata": {},
   "outputs": [
    {
     "name": "stdout",
     "output_type": "stream",
     "text": [
      "Enter a location: New York\n"
     ]
    }
   ],
   "source": [
    "location = str(input(\"Enter a location: \"))\n",
    "pay = int(input(\"Enter pay: \"))\n",
    "\n",
    "if (location == \"Hawaii\" and pay > 40000) or (location ==\"New York\" and pay > 100000):\n",
    "    print(\"I/'ll take it!\")\n",
    "elif (location != \"Hawaii\" or location != \"New York\") and pay > 60000:\n",
    "    print(\"I/'ll take it!\")\n",
    "elif (location == \"Hawaii\" and pay < 40000) or (location == \"New York\" and pay <100000):\n",
    "    print(\"No way.\")\n",
    "elif (location != \"Hawaii\" or location != \"New York\") and pay <60000:\n",
    "    print(\"No thanks, I can find something better.\")"
   ]
  }
 ],
 "metadata": {
  "kernelspec": {
   "display_name": "Python 3",
   "language": "python",
   "name": "python3"
  },
  "language_info": {
   "codemirror_mode": {
    "name": "ipython",
    "version": 3
   },
   "file_extension": ".py",
   "mimetype": "text/x-python",
   "name": "python",
   "nbconvert_exporter": "python",
   "pygments_lexer": "ipython3",
   "version": "3.7.3"
  }
 },
 "nbformat": 4,
 "nbformat_minor": 2
}
